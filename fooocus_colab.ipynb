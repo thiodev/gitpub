{
  "cells": [
    {
      "cell_type": "code",
      "source": [
        "!pip install youtube-transcript-api markdownify googletrans==4.0.0-rc1"
      ],
      "metadata": {
        "id": "0Y88EU-3LepZ",
        "outputId": "03d98cc0-82d7-4c31-c978-06278759cb05",
        "colab": {
          "base_uri": "https://localhost:8080/"
        }
      },
      "execution_count": 1,
      "outputs": [
        {
          "output_type": "stream",
          "name": "stdout",
          "text": [
            "Requirement already satisfied: youtube-transcript-api in /usr/local/lib/python3.11/dist-packages (0.6.3)\n",
            "Requirement already satisfied: markdownify in /usr/local/lib/python3.11/dist-packages (0.14.1)\n",
            "Requirement already satisfied: googletrans==4.0.0-rc1 in /usr/local/lib/python3.11/dist-packages (4.0.0rc1)\n",
            "Requirement already satisfied: httpx==0.13.3 in /usr/local/lib/python3.11/dist-packages (from googletrans==4.0.0-rc1) (0.13.3)\n",
            "Requirement already satisfied: certifi in /usr/local/lib/python3.11/dist-packages (from httpx==0.13.3->googletrans==4.0.0-rc1) (2025.1.31)\n",
            "Requirement already satisfied: hstspreload in /usr/local/lib/python3.11/dist-packages (from httpx==0.13.3->googletrans==4.0.0-rc1) (2025.1.1)\n",
            "Requirement already satisfied: sniffio in /usr/local/lib/python3.11/dist-packages (from httpx==0.13.3->googletrans==4.0.0-rc1) (1.3.1)\n",
            "Requirement already satisfied: chardet==3.* in /usr/local/lib/python3.11/dist-packages (from httpx==0.13.3->googletrans==4.0.0-rc1) (3.0.4)\n",
            "Requirement already satisfied: idna==2.* in /usr/local/lib/python3.11/dist-packages (from httpx==0.13.3->googletrans==4.0.0-rc1) (2.10)\n",
            "Requirement already satisfied: rfc3986<2,>=1.3 in /usr/local/lib/python3.11/dist-packages (from httpx==0.13.3->googletrans==4.0.0-rc1) (1.5.0)\n",
            "Requirement already satisfied: httpcore==0.9.* in /usr/local/lib/python3.11/dist-packages (from httpx==0.13.3->googletrans==4.0.0-rc1) (0.9.1)\n",
            "Requirement already satisfied: h11<0.10,>=0.8 in /usr/local/lib/python3.11/dist-packages (from httpcore==0.9.*->httpx==0.13.3->googletrans==4.0.0-rc1) (0.9.0)\n",
            "Requirement already satisfied: h2==3.* in /usr/local/lib/python3.11/dist-packages (from httpcore==0.9.*->httpx==0.13.3->googletrans==4.0.0-rc1) (3.2.0)\n",
            "Requirement already satisfied: hyperframe<6,>=5.2.0 in /usr/local/lib/python3.11/dist-packages (from h2==3.*->httpcore==0.9.*->httpx==0.13.3->googletrans==4.0.0-rc1) (5.2.0)\n",
            "Requirement already satisfied: hpack<4,>=3.0 in /usr/local/lib/python3.11/dist-packages (from h2==3.*->httpcore==0.9.*->httpx==0.13.3->googletrans==4.0.0-rc1) (3.0.0)\n",
            "Requirement already satisfied: defusedxml<0.8.0,>=0.7.1 in /usr/local/lib/python3.11/dist-packages (from youtube-transcript-api) (0.7.1)\n",
            "Requirement already satisfied: requests in /usr/local/lib/python3.11/dist-packages (from youtube-transcript-api) (2.32.3)\n",
            "Requirement already satisfied: beautifulsoup4<5,>=4.9 in /usr/local/lib/python3.11/dist-packages (from markdownify) (4.13.1)\n",
            "Requirement already satisfied: six<2,>=1.15 in /usr/local/lib/python3.11/dist-packages (from markdownify) (1.17.0)\n",
            "Requirement already satisfied: soupsieve>1.2 in /usr/local/lib/python3.11/dist-packages (from beautifulsoup4<5,>=4.9->markdownify) (2.6)\n",
            "Requirement already satisfied: typing-extensions>=4.0.0 in /usr/local/lib/python3.11/dist-packages (from beautifulsoup4<5,>=4.9->markdownify) (4.12.2)\n",
            "Requirement already satisfied: charset-normalizer<4,>=2 in /usr/local/lib/python3.11/dist-packages (from requests->youtube-transcript-api) (3.4.1)\n",
            "Requirement already satisfied: urllib3<3,>=1.21.1 in /usr/local/lib/python3.11/dist-packages (from requests->youtube-transcript-api) (2.3.0)\n"
          ]
        }
      ]
    },
    {
      "cell_type": "code",
      "source": [
        "# Import necessary libraries\n",
        "from youtube_transcript_api import YouTubeTranscriptApi\n",
        "import re\n",
        "import markdownify\n",
        "from googletrans import Translator\n",
        "\n",
        "def fetch_youtube_transcript(video_id):\n",
        "    \"\"\"\n",
        "    Fetches the transcript of a YouTube video using its video ID.\n",
        "    \"\"\"\n",
        "    try:\n",
        "        # Fetch the transcript\n",
        "        transcript = YouTubeTranscriptApi.get_transcript(video_id)\n",
        "        return transcript\n",
        "    except Exception as e:\n",
        "        print(f\"Error fetching transcript: {e}\")\n",
        "        return None\n",
        "\n",
        "def clean_transcript(transcript):\n",
        "    \"\"\"\n",
        "    Cleans the transcript by removing unnecessary timestamps and formatting it for readability.\n",
        "    \"\"\"\n",
        "    cleaned_text = \"\"\n",
        "    for segment in transcript:\n",
        "        # Extract text and remove extra spaces/newlines\n",
        "        text = segment['text'].strip()\n",
        "        text = re.sub(r'\\s+', ' ', text)  # Remove multiple spaces\n",
        "        cleaned_text += f\"{text} \"\n",
        "    return cleaned_text.strip()\n",
        "\n",
        "def translate_text(text, target_language=\"ur\"):\n",
        "    \"\"\"\n",
        "    Translates the given text into the specified target language (default: Urdu).\n",
        "    \"\"\"\n",
        "    translator = Translator()\n",
        "    try:\n",
        "        translated = translator.translate(text, dest=target_language)\n",
        "        return translated.text\n",
        "    except Exception as e:\n",
        "        print(f\"Error during translation: {e}\")\n",
        "        return text  # Return original text if translation fails\n",
        "\n",
        "def format_transcript_for_markdown(cleaned_text):\n",
        "    \"\"\"\n",
        "    Formats the cleaned transcript into a structured Markdown format.\n",
        "    \"\"\"\n",
        "    # Split the text into paragraphs (every 3 sentences form a paragraph)\n",
        "    sentences = re.split(r'(?<=[.!?])\\s+', cleaned_text)\n",
        "    paragraphs = [' '.join(sentences[i:i+3]) for i in range(0, len(sentences), 3)]\n",
        "\n",
        "    # Convert paragraphs into Markdown\n",
        "    markdown_content = \"\"\n",
        "    for idx, paragraph in enumerate(paragraphs, start=1):\n",
        "        markdown_content += f\"### Paragraph {idx}\\n\\n{paragraph}\\n\\n\"\n",
        "    return markdown_content\n",
        "\n",
        "def save_to_markdown(markdown_content, output_file=\"transcript.md\"):\n",
        "    \"\"\"\n",
        "    Saves the formatted Markdown content to a file.\n",
        "    \"\"\"\n",
        "    with open(output_file, \"w\", encoding=\"utf-8\") as file:\n",
        "        file.write(markdown_content)\n",
        "    print(f\"Markdown file saved as '{output_file}'\")\n",
        "\n",
        "def convert_markdown_to_text(markdown_file, text_file=\"transcript.txt\"):\n",
        "    \"\"\"\n",
        "    Converts a Markdown file into a plain text file.\n",
        "    \"\"\"\n",
        "    with open(markdown_file, \"r\", encoding=\"utf-8\") as md_file:\n",
        "        markdown_content = md_file.read()\n",
        "\n",
        "    # Remove Markdown headers and formatting\n",
        "    plain_text = re.sub(r\"#+\\s*\", \"\", markdown_content)  # Remove headers (e.g., ###)\n",
        "    plain_text = re.sub(r\"\\n{2,}\", \"\\n\\n\", plain_text)   # Normalize newlines\n",
        "\n",
        "    with open(text_file, \"w\", encoding=\"utf-8\") as txt_file:\n",
        "        txt_file.write(plain_text)\n",
        "    print(f\"Plain text file saved as '{text_file}'\")\n",
        "\n",
        "# Main Execution\n",
        "if __name__ == \"__main__\":\n",
        "    # Input: YouTube Video ID\n",
        "    video_id = input(\"Enter the YouTube Video ID: \").strip()\n",
        "\n",
        "    # Step 1: Fetch Transcript\n",
        "    transcript = fetch_youtube_transcript(video_id)\n",
        "    if not transcript:\n",
        "        print(\"Failed to fetch transcript. Exiting...\")\n",
        "        exit(1)\n",
        "\n",
        "    # Step 2: Clean Transcript\n",
        "    cleaned_text = clean_transcript(transcript)\n",
        "    print(\"Transcript cleaned successfully.\")\n",
        "\n",
        "    # Step 3: Translate Transcript to Urdu\n",
        "    translated_text = translate_text(cleaned_text, target_language=\"ur\")\n",
        "    print(\"Transcript translated to Urdu successfully.\")\n",
        "\n",
        "    # Step 4: Format Transcript for Markdown\n",
        "    markdown_content = format_transcript_for_markdown(translated_text)\n",
        "    print(\"Transcript formatted for Markdown successfully.\")\n",
        "\n",
        "    # Step 5: Save to Markdown File\n",
        "    markdown_file = \"transcript_urdu.md\"\n",
        "    save_to_markdown(markdown_content, markdown_file)\n",
        "\n",
        "    # Step 6: Convert Markdown to Plain Text\n",
        "    text_file = \"transcript_urdu.txt\"\n",
        "    convert_markdown_to_text(markdown_file, text_file)"
      ],
      "metadata": {
        "id": "0ugMsKsPMIgn",
        "outputId": "00f66ca1-d000-4d74-ddbd-e1b26a76e367",
        "colab": {
          "base_uri": "https://localhost:8080/"
        }
      },
      "execution_count": 3,
      "outputs": [
        {
          "output_type": "stream",
          "name": "stdout",
          "text": [
            "Enter the YouTube Video ID: e-OXgunuz_4\n",
            "Transcript cleaned successfully.\n",
            "Transcript translated to Urdu successfully.\n",
            "Transcript formatted for Markdown successfully.\n",
            "Markdown file saved as 'transcript_urdu.md'\n",
            "Plain text file saved as 'transcript_urdu.txt'\n"
          ]
        }
      ]
    }
  ],
  "metadata": {
    "accelerator": "GPU",
    "colab": {
      "gpuType": "T4",
      "provenance": []
    },
    "kernelspec": {
      "display_name": "Python 3",
      "name": "python3"
    },
    "language_info": {
      "name": "python"
    }
  },
  "nbformat": 4,
  "nbformat_minor": 0
}